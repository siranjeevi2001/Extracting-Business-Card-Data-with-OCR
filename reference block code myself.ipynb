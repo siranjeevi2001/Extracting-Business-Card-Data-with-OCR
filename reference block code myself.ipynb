{
 "cells": [
  {
   "cell_type": "code",
   "execution_count": 1,
   "metadata": {},
   "outputs": [
    {
     "name": "stderr",
     "output_type": "stream",
     "text": [
      "Neither CUDA nor MPS are available - defaulting to CPU. Note: This module is much faster with a GPU.\n"
     ]
    },
    {
     "data": {
      "text/plain": [
       "'KARTHICK\\nGeneral Manager\\n123 ABC St , Salem,\\nTamilNadu 6004513\\n+123-456-7890\\nhello@Borcelle.com\\nwwW.Borcelle.com\\nBORCELLE\\nAIRLINES\\n'"
      ]
     },
     "execution_count": 1,
     "metadata": {},
     "output_type": "execute_result"
    }
   ],
   "source": [
    "from PIL import Image\n",
    "import numpy as np\n",
    "import easyocr\n",
    "\n",
    "def ocr(uploaded_image):\n",
    "    # Convert the UploadedFile object to a PIL image\n",
    "    image = Image.open(uploaded_image)\n",
    "    \n",
    "    reader = easyocr.Reader(['en'])\n",
    "    result = reader.readtext(np.array(image))\n",
    "   \n",
    "    extracted_text = \"\"\n",
    "    for detection in result:\n",
    "        extracted_text += detection[1] + \"\\n\"\n",
    "    return extracted_text\n",
    "\n",
    "demo = ocr('3.png')\n",
    "\n",
    "demo"
   ]
  },
  {
   "cell_type": "code",
   "execution_count": 2,
   "metadata": {},
   "outputs": [
    {
     "data": {
      "text/plain": [
       "str"
      ]
     },
     "execution_count": 2,
     "metadata": {},
     "output_type": "execute_result"
    }
   ],
   "source": [
    "type(demo)"
   ]
  },
  {
   "cell_type": "code",
   "execution_count": 25,
   "metadata": {},
   "outputs": [
    {
     "name": "stderr",
     "output_type": "stream",
     "text": [
      "Neither CUDA nor MPS are available - defaulting to CPU. Note: This module is much faster with a GPU.\n"
     ]
    },
    {
     "data": {
      "text/plain": [
       "'Selva\\nDATA MANAGER\\n+123-456-7890\\n+123-456-7891\\nWWW XYZI.com\\nhello@XYZ1.com\\n123 ABC St , Chennai;\\nselva\\nTamilNadu 600113\\ndigitals'"
      ]
     },
     "execution_count": 25,
     "metadata": {},
     "output_type": "execute_result"
    }
   ],
   "source": [
    "import easyocr\n",
    "from pprint import *\n",
    "def ocr1(image):\n",
    "    reader = easyocr.Reader(['en']) # specify the language  \n",
    "    result = reader.readtext(image)\n",
    "    \n",
    "    a = []\n",
    "    for (bbox, text, prob) in result:\n",
    "        a.append(text)\n",
    "    \n",
    "    result = '\\n'.join(a) \n",
    "    return result\n",
    "\n",
    "a = ocr1('1.png')\n",
    "a\n"
   ]
  },
  {
   "cell_type": "code",
   "execution_count": 22,
   "metadata": {},
   "outputs": [
    {
     "data": {
      "text/plain": [
       "str"
      ]
     },
     "execution_count": 22,
     "metadata": {},
     "output_type": "execute_result"
    }
   ],
   "source": [
    "type(a)"
   ]
  },
  {
   "cell_type": "code",
   "execution_count": 17,
   "metadata": {},
   "outputs": [
    {
     "data": {
      "text/plain": [
       "str"
      ]
     },
     "execution_count": 17,
     "metadata": {},
     "output_type": "execute_result"
    }
   ],
   "source": [
    "b= 'fchdbaskk'\n",
    "type(b)\n"
   ]
  },
  {
   "cell_type": "code",
   "execution_count": 10,
   "metadata": {},
   "outputs": [
    {
     "data": {
      "text/plain": [
       "str"
      ]
     },
     "execution_count": 10,
     "metadata": {},
     "output_type": "execute_result"
    }
   ],
   "source": [
    "type(a)"
   ]
  },
  {
   "cell_type": "code",
   "execution_count": 4,
   "metadata": {},
   "outputs": [
    {
     "name": "stderr",
     "output_type": "stream",
     "text": [
      "Neither CUDA nor MPS are available - defaulting to CPU. Note: This module is much faster with a GPU.\n"
     ]
    },
    {
     "data": {
      "text/plain": [
       "'Selva DATA MANAGER +123-456-7890 +123-456-7891 WWW XYZI.com hello@XYZ1.com 123 ABC St , Chennai; selva TamilNadu 600113 digitals '"
      ]
     },
     "execution_count": 4,
     "metadata": {},
     "output_type": "execute_result"
    }
   ],
   "source": [
    "import easyocr\n",
    "from pprint import *\n",
    "\n",
    "reader = easyocr.Reader(['en']) # specify the language  \n",
    "result = reader.readtext('4.png')\n",
    "  \n",
    "a = \"\"\n",
    "for (bbox, text, prob) in result:\n",
    "    a += text +\" \"\n",
    "a.upper()\n"
   ]
  },
  {
   "cell_type": "code",
   "execution_count": 8,
   "metadata": {},
   "outputs": [
    {
     "name": "stdout",
     "output_type": "stream",
     "text": [
      "data insert Succesfully :-) bai^^^ \n"
     ]
    }
   ],
   "source": [
    "import mysql.connector\n",
    "import pandas as pd\n",
    "\n",
    "data_to_insert = [a]\n",
    "\n",
    "\n",
    "def insert(data_to_insert):\n",
    "    # Establish a connection to the database\n",
    "    db_connection = mysql.connector.connect(\n",
    "        host='localhost',\n",
    "        user='root',\n",
    "        password='1022',\n",
    "        database='guvi'\n",
    "    )\n",
    "\n",
    "    # Create a cursor object\n",
    "    cursor = db_connection.cursor()\n",
    "\n",
    "    # Insert data into the table\n",
    "    insert_query = \"INSERT INTO new_table (data) VALUES (%s)\"\n",
    "    cursor.execute(insert_query, data_to_insert)\n",
    "    db_connection.commit()\n",
    "    cursor.close()\n",
    "    db_connection.close()\n",
    "    print(\"data insert Succesfully :-) bai^^^ \")\n",
    "\n",
    "# Display the DataFrame\n",
    "\n",
    "insert(data_to_insert)"
   ]
  },
  {
   "cell_type": "code",
   "execution_count": 2,
   "metadata": {},
   "outputs": [
    {
     "data": {
      "text/plain": [
       "'REVANTH MARKETING EXECUTIVE 123 ABC ST,, HYDRABAD, TAMILNADU; 600001 +91-456-1234 HELLO@CHRISTMAS.COM FAMILY WWW.CHRISTMAS.COM RESTAURANT '"
      ]
     },
     "execution_count": 2,
     "metadata": {},
     "output_type": "execute_result"
    }
   ],
   "source": [
    "a = \"\"\n",
    "for (bbox, text, prob) in result:\n",
    "    a += text +\" \"\n",
    "a.upper()"
   ]
  },
  {
   "cell_type": "code",
   "execution_count": 3,
   "metadata": {},
   "outputs": [
    {
     "name": "stdout",
     "output_type": "stream",
     "text": [
      "Entities: [('REVANTH Marketing Executive', 'ORG'), ('123', 'CARDINAL'), ('ABC St', 'ORG'), ('HYDRABAD', 'ORG'), ('TamilNadu', 'ORG'), ('600001', 'CARDINAL'), ('Family wWW.CHRISTMAS.com Restaurant', 'PRODUCT')]\n",
      "Phone Numbers: []\n",
      "Email Addresses: ['hello@CHRISTMAS.com']\n"
     ]
    }
   ],
   "source": [
    "import spacy\n",
    "import re\n",
    "\n",
    "# Load the spaCy English language model\n",
    "nlp = spacy.load(\"en_core_web_sm\")\n",
    "\n",
    "# Sample text\n",
    "# text = \"\"\"\n",
    "# Amit Kumar CEO & Founder 123-456-7569 hello@global.com www.global.com 123 Global Erode, Global Tamilnadu 600115 Insurance ST\n",
    "# \"\"\"\n",
    "text = a\n",
    "\n",
    "# Function to extract entities using spaCy NER\n",
    "def extract_entities(text):\n",
    "    doc = nlp(text)\n",
    "    entities = [(ent.text, ent.label_) for ent in doc.ents]\n",
    "    return entities\n",
    "\n",
    "# Function to extract phone numbers using regular expressions\n",
    "def extract_phone_numbers(text):\n",
    "    phone_pattern = r\"\\b\\d{3}-\\d{3}-\\d{4}\\b\"\n",
    "    phone_numbers = re.findall(phone_pattern, text)\n",
    "    return phone_numbers\n",
    "\n",
    "# Function to extract email addresses using regular expressions\n",
    "def extract_email_addresses(text):\n",
    "    email_pattern = r\"\\b[A-Za-z0-9._%+-]+@[A-Za-z0-9.-]+\\.[A-Z|a-z]{2,}\\b\"\n",
    "    email_addresses = re.findall(email_pattern, text)\n",
    "    return email_addresses\n",
    "\n",
    "# Extract entities, phone numbers, and email addresses from the text\n",
    "entities = extract_entities(text)\n",
    "phone_numbers = extract_phone_numbers(text)\n",
    "email_addresses = extract_email_addresses(text)\n",
    "\n",
    "# Print the extracted information\n",
    "print(\"Entities:\", entities)\n",
    "print(\"Phone Numbers:\", phone_numbers)\n",
    "print(\"Email Addresses:\", email_addresses)\n"
   ]
  },
  {
   "cell_type": "code",
   "execution_count": 4,
   "metadata": {},
   "outputs": [
    {
     "name": "stdout",
     "output_type": "stream",
     "text": [
      "Entities: [('REVANTH Marketing Executive', 'ORG'), ('123', 'CARDINAL'), ('ABC St', 'ORG'), ('HYDRABAD', 'ORG'), ('TamilNadu', 'ORG'), ('600001', 'CARDINAL'), ('Family wWW.CHRISTMAS.com Restaurant', 'PRODUCT')]\n",
      "Phone Numbers: []\n",
      "Email Addresses: ['hello@CHRISTMAS.com']\n",
      "Websites: ['CHRISTMAS.com', 'wWW.CHRISTMAS.com']\n"
     ]
    }
   ],
   "source": [
    "import spacy\n",
    "import re\n",
    "\n",
    "# Load the spaCy English language model\n",
    "nlp = spacy.load(\"en_core_web_sm\")\n",
    "\n",
    "# # Sample text\n",
    "# text = \"\"\"\n",
    "# Amit Kumar CEO & Founder 123-456-7569 hello@global.com www.global.com 123 Global Erode, Global Tamilnadu 600115 Insurance ST\n",
    "# \"\"\"\n",
    "\n",
    "text = a\n",
    "\n",
    "# Function to extract entities using spaCy NER\n",
    "def extract_entities(text):\n",
    "    doc = nlp(text)\n",
    "    entities = [(ent.text, ent.label_) for ent in doc.ents]\n",
    "    return entities\n",
    "\n",
    "# Function to extract phone numbers using regular expressions\n",
    "def extract_phone_numbers(text):\n",
    "    phone_pattern = r\"\\b\\d{3}-\\d{3}-\\d{4}\\b\"\n",
    "    phone_numbers = re.findall(phone_pattern, text)\n",
    "    return phone_numbers\n",
    "\n",
    "# Function to extract email addresses using regular expressions\n",
    "def extract_email_addresses(text):\n",
    "    email_pattern = r\"\\b[A-Za-z0-9._%+-]+@[A-Za-z0-9.-]+\\.[A-Z|a-z]{2,}\\b\"\n",
    "    email_addresses = re.findall(email_pattern, text)\n",
    "    return email_addresses\n",
    "\n",
    "# Function to extract website URLs using regular expressions\n",
    "def extract_website(text):\n",
    "    website_pattern = r\"\\b(?:https?://)?(?:www\\.)?([a-zA-Z0-9.-]+(?:\\.[a-zA-Z]{2,})+)\\b\"\n",
    "\n",
    "    websites = re.findall(website_pattern, text)\n",
    "    return websites\n",
    "\n",
    "# Extract entities, phone numbers, email addresses, and website URLs from the text\n",
    "entities = extract_entities(text)\n",
    "phone_numbers = extract_phone_numbers(text)\n",
    "email_addresses = extract_email_addresses(text)\n",
    "websites = extract_website(text)\n",
    "\n",
    "# Print the extracted information\n",
    "print(\"Entities:\", entities)\n",
    "print(\"Phone Numbers:\", phone_numbers)\n",
    "print(\"Email Addresses:\", email_addresses)\n",
    "print(\"Websites:\", websites)\n"
   ]
  },
  {
   "cell_type": "code",
   "execution_count": 5,
   "metadata": {},
   "outputs": [
    {
     "data": {
      "text/html": [
       "<div>\n",
       "<style scoped>\n",
       "    .dataframe tbody tr th:only-of-type {\n",
       "        vertical-align: middle;\n",
       "    }\n",
       "\n",
       "    .dataframe tbody tr th {\n",
       "        vertical-align: top;\n",
       "    }\n",
       "\n",
       "    .dataframe thead th {\n",
       "        text-align: right;\n",
       "    }\n",
       "</style>\n",
       "<table border=\"1\" class=\"dataframe\">\n",
       "  <thead>\n",
       "    <tr style=\"text-align: right;\">\n",
       "      <th></th>\n",
       "      <th>ID</th>\n",
       "      <th>name</th>\n",
       "      <th>contact_no</th>\n",
       "      <th>email</th>\n",
       "      <th>website</th>\n",
       "      <th>company_name</th>\n",
       "      <th>address</th>\n",
       "    </tr>\n",
       "  </thead>\n",
       "  <tbody>\n",
       "  </tbody>\n",
       "</table>\n",
       "</div>"
      ],
      "text/plain": [
       "Empty DataFrame\n",
       "Columns: [ID, name, contact_no, email, website, company_name, address]\n",
       "Index: []"
      ]
     },
     "execution_count": 5,
     "metadata": {},
     "output_type": "execute_result"
    }
   ],
   "source": [
    "import mysql.connector\n",
    "import pandas as pd\n",
    "\n",
    "db_connection = mysql.connector.connect(\n",
    "        host='localhost',\n",
    "        user='root',\n",
    "        password='1022',\n",
    "        database='guvi'\n",
    "    )\n",
    "\n",
    "    # Create a cursor object\n",
    "cursor = db_connection.cursor()\n",
    "cursor.execute(\"SELECT * FROM ocr\")\n",
    "data = cursor.fetchall()\n",
    "df = pd.DataFrame(data,columns=['ID', 'name', 'contact_no', 'email', 'website', 'company_name', 'address'],index=None)\n",
    "cursor.close()\n",
    "db_connection.close()\n",
    "df"
   ]
  },
  {
   "cell_type": "code",
   "execution_count": 8,
   "metadata": {},
   "outputs": [
    {
     "name": "stdout",
     "output_type": "stream",
     "text": [
      "data insert Succesfully :-) bai^^^ \n"
     ]
    }
   ],
   "source": [
    "import mysql.connector\n",
    "import pandas as pd\n",
    "\n",
    "data_to_insert = (\"John Doe\", \"1234567890\", \"john.doe@example.com\", \"example.com\", \"Example Company\", \"123 Example St, Example City\")\n",
    "\n",
    "\n",
    "def insert(data_to_insert):\n",
    "    # Establish a connection to the database\n",
    "    db_connection = mysql.connector.connect(\n",
    "        host='localhost',\n",
    "        user='root',\n",
    "        password='1022',\n",
    "        database='guvi'\n",
    "    )\n",
    "\n",
    "    # Create a cursor object\n",
    "    cursor = db_connection.cursor()\n",
    "\n",
    "    # Insert data into the table\n",
    "    insert_query = \"INSERT INTO ocr (name, contact_no, email, website, company_name, address) VALUES (%s, %s, %s, %s, %s, %s)\"\n",
    "    cursor.execute(insert_query, data_to_insert)\n",
    "    db_connection.commit()\n",
    "\n",
    "    # Select data from the table\n",
    "    # cursor.execute(\"SELECT * FROM ocr\")\n",
    "    # data = cursor.fetchall()\n",
    "\n",
    "    # Load data into a pandas DataFrame\n",
    "    # df = pd.DataFrame(data, columns=['ID', 'name', 'contact_no', 'email', 'website', 'company_name', 'address'])\n",
    "\n",
    "    # Close the cursor and database connection\n",
    "    cursor.close()\n",
    "    db_connection.close()\n",
    "    print(\"data insert Succesfully :-) bai^^^ \")\n",
    "\n",
    "# Display the DataFrame\n",
    "\n",
    "insert(data_to_insert)"
   ]
  },
  {
   "cell_type": "code",
   "execution_count": 77,
   "metadata": {},
   "outputs": [],
   "source": [
    "b = 'Amit Kumar CEO & Founder 123-456-7569 hello@global.com www.global.com 123 Global Erode, Global Tamilnadu 600115 Insurance ST'\n",
    "c = 'SANTHOSH TECHNICAL MANAGER 123 ABC ST , TIRUPUR; TAMILNADU, 641603 +123-456-1234 HELLO@SUN.COM WWW.SUNCOM SUN ELECTRICALS '\n",
    "d = 'REVANTH MARKETING EXECUTIVE 123 ABC ST,, HYDRABAD, TAMILNADU; 600001 +91-456-1234 HELLO@CHRISTMAS.COM FAMILY WWW. CHRISTMAS.COM RESTAURANT '"
   ]
  },
  {
   "cell_type": "code",
   "execution_count": 107,
   "metadata": {},
   "outputs": [
    {
     "name": "stdout",
     "output_type": "stream",
     "text": [
      " MANAGER 123 ABC ST , TIRUPUR; TAMILNADU, 641603  HELLO@SUN.COM WWW.SUNCOM SUN ELECTRICALS \n"
     ]
    }
   ],
   "source": [
    "from ocr import *\n",
    "\n",
    "def address(raw_extracted_text):\n",
    "    remove_texts = []\n",
    "    name, title = extract_name_and_title(raw_extracted_text)\n",
    "    email = extract_email_addresses(raw_extracted_text)\n",
    "    phone = extract_phone_numbers(raw_extracted_text)\n",
    "    website = extract_websites(raw_extracted_text)\n",
    "    remove_texts.extend([name, title, *email, *phone, website])\n",
    "\n",
    "    cleaned_text = raw_extracted_text.replace('-','')\n",
    "    for remove_text in remove_texts:\n",
    "        cleaned_text = cleaned_text.replace(remove_text, \"\")\n",
    "\n",
    "    print(cleaned_text)\n",
    "\n",
    "# Example usage\n",
    "d = d\n",
    "address(d)\n"
   ]
  },
  {
   "cell_type": "code",
   "execution_count": 110,
   "metadata": {},
   "outputs": [
    {
     "ename": "SyntaxError",
     "evalue": "can't use starred expression here (1642449519.py, line 2)",
     "output_type": "error",
     "traceback": [
      "\u001b[1;36m  Cell \u001b[1;32mIn[110], line 2\u001b[1;36m\u001b[0m\n\u001b[1;33m    b = *a\u001b[0m\n\u001b[1;37m        ^\u001b[0m\n\u001b[1;31mSyntaxError\u001b[0m\u001b[1;31m:\u001b[0m can't use starred expression here\n"
     ]
    }
   ],
   "source": [
    "a = ['hello@sun.com']\n",
    "b = *a\n",
    "print(b)"
   ]
  },
  {
   "cell_type": "code",
   "execution_count": 111,
   "metadata": {},
   "outputs": [
    {
     "name": "stdout",
     "output_type": "stream",
     "text": [
      "hello@sun.com\n"
     ]
    }
   ],
   "source": [
    "a = ['hello@sun.com']\n",
    "b, = a\n",
    "print(b)\n"
   ]
  },
  {
   "cell_type": "code",
   "execution_count": 71,
   "metadata": {},
   "outputs": [
    {
     "name": "stdout",
     "output_type": "stream",
     "text": [
      "revanthmarketingexecutive123abcst,,hydrabad,tamilnadu;600001+91-456-1234hello@christmas.comfamilywww.christmas.comrestaurant\n",
      "Phone Numbers: []\n",
      "Email Addresses: hello@christmas.com\n",
      "Websites: ['christmas.comfamilywww.christmas.comrestaurant']\n",
      "Name: revanth marketing\n",
      "Title: marketing\n"
     ]
    }
   ],
   "source": [
    "import spacy\n",
    "import re\n",
    "\n",
    "# Load the spaCy English language model\n",
    "nlp = spacy.load(\"en_core_web_sm\")\n",
    "\n",
    "# Sample text\n",
    "text= d.lower()\n",
    "text.replace(\"-\",'').replace(\".\",\"\")\n",
    "\n",
    "# Function to extract entities using spaCy NER\n",
    "# def extract_entities(text):\n",
    "#     doc = nlp(text)\n",
    "#     entities = [(ent.text, ent.label_) for ent in doc.ents]\n",
    "#     return entities\n",
    "\n",
    "# Function to extract phone numbers using regular expressions\n",
    "def extract_phone_numbers(text):\n",
    "    phone_pattern = r\"\\b\\d{3}-\\d{3}-\\d{4}\\b\"\n",
    "    phone_numbers = re.findall(phone_pattern, text)\n",
    "    return phone_numbers\n",
    "\n",
    "# Function to extract email addresses using regular expressions\n",
    "def extract_email_addresses(text):\n",
    "    email_pattern = r\"\\b[A-Za-z0-9._%+-]+@[A-Za-z0-9.-]+\\.[com]{3,}\\b\"\n",
    "    email_addresses = re.findall(email_pattern, text)\n",
    "    return email_addresses\n",
    "\n",
    "\n",
    "\n",
    "#  website_pattern = r\"\\b(?:https?://)?(?:www\\.)?([a-zA-Z0-9.-]+(?:\\.[a-zA-Z]{2,})+)\\b\"\n",
    "\n",
    "# Function to extract website URLs using regular expressions\n",
    "def extract_website(text):\n",
    "    text.lower()\n",
    "    text = text.replace(\" \",\"\")\n",
    "    print(text)\n",
    "    website_pattern = r\"\\b(?:www\\.)?([a-zA-Z0-9.-]+(?:\\.[a-zA-Z]{2,})+)\\b\"\n",
    "    websites = re.findall(website_pattern, text)\n",
    "    if len(website_pattern)==0:\n",
    "        website_pattern = r\"\\b([a-zA-Z0-9.-]+(?:\\.[a-zA-Z]{2,})+)\\b\"\n",
    "        websites = re.findall(website_pattern, text)\n",
    "        \n",
    "\n",
    "    return websites\n",
    "\n",
    "# Function to extract name and title\n",
    "# Function to extract name and title\n",
    "def extract_name_and_title(text):\n",
    "    name_pattern = r\"(?i)\\b([A-Z][a-z]+)\\s+([A-Z][a-z]+)\\s*\"\n",
    "    title_pattern = r\"(?i)\\b(?:CEO|Founder|Technical|Engineer|Manager|MARKETING|GM)\\b\"\n",
    "    name_match = re.search(name_pattern, text)\n",
    "    title_match = re.search(title_pattern, text)\n",
    "    name = f\"{name_match.group(1)} {name_match.group(2)}\" if name_match else None\n",
    "    title = title_match.group(0) if title_match else None\n",
    "    return name, title\n",
    "\n",
    "\n",
    "# Extract entities, phone numbers, email addresses, website URLs, name, and title from the text\n",
    "# entities = extract_entities(text)\n",
    "phone_numbers = extract_phone_numbers(text)\n",
    "email_addresses = extract_email_addresses(text)\n",
    "websites = extract_website(text)\n",
    "name, title = extract_name_and_title(text)\n",
    "\n",
    "# Print the extracted information\n",
    "# print(\"Entities:\", entities)\n",
    "print(\"Phone Numbers:\", phone_numbers)\n",
    "print(\"Email Addresses:\", email_addresses[0])\n",
    "print(\"Websites:\", websites)\n",
    "print(\"Name:\", name)\n",
    "print(\"Title:\", title)\n"
   ]
  },
  {
   "cell_type": "code",
   "execution_count": 70,
   "metadata": {},
   "outputs": [],
   "source": [
    "import re\n",
    "\n",
    "# Define the text\n",
    "text = \"revanthmarketingexecutive123abcst,,hydrabad,tamilnadu;600001+91-456-1234hello@christmascomfamilywwwchristmascomrestaurant.\"\n",
    "\n",
    "# Define a regular expression pattern to match substrings starting with \"www\" and ending with \"com\"\n",
    "pattern = r\"\\bwww\\w*\\.com\\b\"\n",
    "\n",
    "# Find all occurrences of the pattern in the text\n",
    "matches = re.findall(pattern, text)\n",
    "\n",
    "# Print the matches\n",
    "for match in matches:\n",
    "    print(match)\n"
   ]
  },
  {
   "cell_type": "code",
   "execution_count": 86,
   "metadata": {},
   "outputs": [
    {
     "data": {
      "text/plain": [
       "'www.christmas.com'"
      ]
     },
     "execution_count": 86,
     "metadata": {},
     "output_type": "execute_result"
    }
   ],
   "source": [
    "# text = \n",
    "\n",
    "def websites(text):\n",
    "    text = text.replace(' ','').lower()\n",
    "\n",
    "    # Find all occurrences of \"www\" in the text\n",
    "    www_indices = [m.start() for m in re.finditer('www', text)]\n",
    "\n",
    "    # Initialize a list to store the indices of 'com' following 'www'\n",
    "    com_indices = []\n",
    "\n",
    "    # Find the index of 'com' following each 'www'\n",
    "    for idx in www_indices:\n",
    "        com_idx = text.find('com', idx)\n",
    "        if com_idx != -1:\n",
    "            com_indices.append(com_idx)\n",
    "\n",
    "    # Slice the text based on the indices of 'www' and 'com'\n",
    "    slices = []\n",
    "    for www_idx, com_idx in zip(www_indices, com_indices):\n",
    "        slices.append(text[www_idx:com_idx + len('com')])\n",
    "\n",
    "    for s in slices:\n",
    "        return s\n",
    "    \n",
    "a = websites(d)\n",
    "a\n"
   ]
  },
  {
   "cell_type": "code",
   "execution_count": 93,
   "metadata": {},
   "outputs": [
    {
     "data": {
      "text/plain": [
       "'+1234567890,23456789'"
      ]
     },
     "execution_count": 93,
     "metadata": {},
     "output_type": "execute_result"
    }
   ],
   "source": [
    "a = ['+1234567890', '23456789']\n",
    "\n",
    "\",\".join(a)\n",
    "\n",
    "# for i in\n"
   ]
  },
  {
   "cell_type": "code",
   "execution_count": 50,
   "metadata": {},
   "outputs": [
    {
     "name": "stdout",
     "output_type": "stream",
     "text": [
      "+914561234\n"
     ]
    }
   ],
   "source": [
    "import re\n",
    "\n",
    "def extract_phone_numbers(text):\n",
    "    # Define a regular expression pattern to match phone numbers\n",
    "    text = text.replace(\"-\",\"\")\n",
    "    phone_pattern = r\"\\+\\d{9,}\"\n",
    "    # Find all phone numbers in the text\n",
    "    phone_numbers = re.findall(phone_pattern, text)  \n",
    "    \n",
    "    if len(phone_numbers)==0:\n",
    "        phone_pattern = r\"\\b\\d{9,}\\b\"\n",
    "        phone_numbers = re.findall(phone_pattern, text)\n",
    "\n",
    "    return phone_numbers\n",
    "\n",
    "# Sample text\n",
    "text = d\n",
    "\n",
    "# Extract phone numbers\n",
    "phone_numbers = extract_phone_numbers(text)\n",
    "\n",
    "# Print the extracted phone numbers\n",
    "for phone_number in phone_numbers:\n",
    "    print(phone_number)\n"
   ]
  },
  {
   "cell_type": "code",
   "execution_count": 6,
   "metadata": {},
   "outputs": [
    {
     "name": "stdout",
     "output_type": "stream",
     "text": [
      "Token: SANTHOSH, Label: PROPN\n",
      "Token: TECHNICAL, Label: PROPN\n",
      "Token: MANAGER, Label: PROPN\n",
      "Token: 123, Label: NUM\n",
      "Token: ABC, Label: PROPN\n",
      "Token: ST, Label: PROPN\n",
      "Token: ,, Label: PUNCT\n",
      "Token: TIRUPUR, Label: PROPN\n",
      "Token: ;, Label: PUNCT\n",
      "Token: TAMILNADU, Label: PROPN\n",
      "Token: ,, Label: PUNCT\n",
      "Token: 641603, Label: NUM\n",
      "Token: +123, Label: PROPN\n",
      "Token: -, Label: PUNCT\n",
      "Token: 456, Label: NUM\n",
      "Token: -, Label: SYM\n",
      "Token: 1234, Label: NUM\n",
      "Token: HELLO@SUN.COM, Label: PROPN\n",
      "Token: WWW.SUNCOM, Label: PROPN\n",
      "Token: SUN, Label: PROPN\n",
      "Token: ELECTRICALS, Label: PROPN\n"
     ]
    }
   ],
   "source": [
    "import spacy\n",
    "\n",
    "# Load the spaCy English language model\n",
    "nlp = spacy.load('en_core_web_sm')\n",
    "\n",
    "def label_text(text):\n",
    "    doc = nlp(text)\n",
    "    labeled_text = [(token.text, token.pos_) for token in doc]\n",
    "    return labeled_text\n",
    "\n",
    "# Example text\n",
    "text = c\n",
    "\n",
    "# Label all text in the example\n",
    "labeled_text = label_text(text)\n",
    "\n",
    "# Print the labeled text\n",
    "for token, label in labeled_text:\n",
    "    print(f\"Token: {token}, Label: {label}\")\n"
   ]
  },
  {
   "cell_type": "code",
   "execution_count": 12,
   "metadata": {},
   "outputs": [
    {
     "data": {
      "image/svg+xml": [
       "<svg baseProfile=\"full\" height=\"168px\" preserveAspectRatio=\"xMidYMid meet\" style=\"font-family: times, serif; font-weight: normal; font-style: normal; font-size: 16px;\" version=\"1.1\" viewBox=\"0,0,1480.0,168.0\" width=\"1480px\" xmlns=\"http://www.w3.org/2000/svg\" xmlns:ev=\"http://www.w3.org/2001/xml-events\" xmlns:xlink=\"http://www.w3.org/1999/xlink\"><defs /><svg width=\"100%\" x=\"0\" y=\"0px\"><defs /><text text-anchor=\"middle\" x=\"50%\" y=\"16px\">S</text></svg><svg width=\"7.56757%\" x=\"0%\" y=\"48px\"><defs /><svg width=\"100%\" x=\"0\" y=\"0px\"><defs /><text text-anchor=\"middle\" x=\"50%\" y=\"16px\">ORGANIZATION</text></svg><svg width=\"100%\" x=\"0%\" y=\"48px\"><defs /><svg width=\"100%\" x=\"0\" y=\"0px\"><defs /><text text-anchor=\"middle\" x=\"50%\" y=\"16px\">REVANTH</text></svg><svg width=\"100%\" x=\"0%\" y=\"48px\"><defs /><svg width=\"100%\" x=\"0\" y=\"0px\"><defs /><text text-anchor=\"middle\" x=\"50%\" y=\"16px\">NNP</text></svg></svg><line stroke=\"black\" x1=\"50%\" x2=\"50%\" y1=\"19.2px\" y2=\"48px\" /></svg><line stroke=\"black\" x1=\"50%\" x2=\"50%\" y1=\"19.2px\" y2=\"48px\" /></svg><line stroke=\"black\" x1=\"50%\" x2=\"3.78378%\" y1=\"19.2px\" y2=\"48px\" /><svg width=\"5.94595%\" x=\"7.56757%\" y=\"48px\"><defs /><svg width=\"100%\" x=\"0\" y=\"0px\"><defs /><text text-anchor=\"middle\" x=\"50%\" y=\"16px\">Marketing</text></svg><svg width=\"100%\" x=\"0%\" y=\"48px\"><defs /><svg width=\"100%\" x=\"0\" y=\"0px\"><defs /><text text-anchor=\"middle\" x=\"50%\" y=\"16px\">NNP</text></svg></svg><line stroke=\"black\" x1=\"50%\" x2=\"50%\" y1=\"19.2px\" y2=\"48px\" /></svg><line stroke=\"black\" x1=\"50%\" x2=\"10.5405%\" y1=\"19.2px\" y2=\"48px\" /><svg width=\"5.94595%\" x=\"13.5135%\" y=\"48px\"><defs /><svg width=\"100%\" x=\"0\" y=\"0px\"><defs /><text text-anchor=\"middle\" x=\"50%\" y=\"16px\">Executive</text></svg><svg width=\"100%\" x=\"0%\" y=\"48px\"><defs /><svg width=\"100%\" x=\"0\" y=\"0px\"><defs /><text text-anchor=\"middle\" x=\"50%\" y=\"16px\">NNP</text></svg></svg><line stroke=\"black\" x1=\"50%\" x2=\"50%\" y1=\"19.2px\" y2=\"48px\" /></svg><line stroke=\"black\" x1=\"50%\" x2=\"16.4865%\" y1=\"19.2px\" y2=\"48px\" /><svg width=\"2.7027%\" x=\"19.4595%\" y=\"48px\"><defs /><svg width=\"100%\" x=\"0\" y=\"0px\"><defs /><text text-anchor=\"middle\" x=\"50%\" y=\"16px\">123</text></svg><svg width=\"100%\" x=\"0%\" y=\"48px\"><defs /><svg width=\"100%\" x=\"0\" y=\"0px\"><defs /><text text-anchor=\"middle\" x=\"50%\" y=\"16px\">CD</text></svg></svg><line stroke=\"black\" x1=\"50%\" x2=\"50%\" y1=\"19.2px\" y2=\"48px\" /></svg><line stroke=\"black\" x1=\"50%\" x2=\"20.8108%\" y1=\"19.2px\" y2=\"48px\" /><svg width=\"7.56757%\" x=\"22.1622%\" y=\"48px\"><defs /><svg width=\"100%\" x=\"0\" y=\"0px\"><defs /><text text-anchor=\"middle\" x=\"50%\" y=\"16px\">ORGANIZATION</text></svg><svg width=\"50%\" x=\"0%\" y=\"48px\"><defs /><svg width=\"100%\" x=\"0\" y=\"0px\"><defs /><text text-anchor=\"middle\" x=\"50%\" y=\"16px\">ABC</text></svg><svg width=\"100%\" x=\"0%\" y=\"48px\"><defs /><svg width=\"100%\" x=\"0\" y=\"0px\"><defs /><text text-anchor=\"middle\" x=\"50%\" y=\"16px\">NNP</text></svg></svg><line stroke=\"black\" x1=\"50%\" x2=\"50%\" y1=\"19.2px\" y2=\"48px\" /></svg><line stroke=\"black\" x1=\"50%\" x2=\"25%\" y1=\"19.2px\" y2=\"48px\" /><svg width=\"50%\" x=\"50%\" y=\"48px\"><defs /><svg width=\"100%\" x=\"0\" y=\"0px\"><defs /><text text-anchor=\"middle\" x=\"50%\" y=\"16px\">St</text></svg><svg width=\"100%\" x=\"0%\" y=\"48px\"><defs /><svg width=\"100%\" x=\"0\" y=\"0px\"><defs /><text text-anchor=\"middle\" x=\"50%\" y=\"16px\">NNP</text></svg></svg><line stroke=\"black\" x1=\"50%\" x2=\"50%\" y1=\"19.2px\" y2=\"48px\" /></svg><line stroke=\"black\" x1=\"50%\" x2=\"75%\" y1=\"19.2px\" y2=\"48px\" /></svg><line stroke=\"black\" x1=\"50%\" x2=\"25.9459%\" y1=\"19.2px\" y2=\"48px\" /><svg width=\"1.62162%\" x=\"29.7297%\" y=\"48px\"><defs /><svg width=\"100%\" x=\"0\" y=\"0px\"><defs /><text text-anchor=\"middle\" x=\"50%\" y=\"16px\">,</text></svg><svg width=\"100%\" x=\"0%\" y=\"48px\"><defs /><svg width=\"100%\" x=\"0\" y=\"0px\"><defs /><text text-anchor=\"middle\" x=\"50%\" y=\"16px\">,</text></svg></svg><line stroke=\"black\" x1=\"50%\" x2=\"50%\" y1=\"19.2px\" y2=\"48px\" /></svg><line stroke=\"black\" x1=\"50%\" x2=\"30.5405%\" y1=\"19.2px\" y2=\"48px\" /><svg width=\"1.62162%\" x=\"31.3514%\" y=\"48px\"><defs /><svg width=\"100%\" x=\"0\" y=\"0px\"><defs /><text text-anchor=\"middle\" x=\"50%\" y=\"16px\">,</text></svg><svg width=\"100%\" x=\"0%\" y=\"48px\"><defs /><svg width=\"100%\" x=\"0\" y=\"0px\"><defs /><text text-anchor=\"middle\" x=\"50%\" y=\"16px\">,</text></svg></svg><line stroke=\"black\" x1=\"50%\" x2=\"50%\" y1=\"19.2px\" y2=\"48px\" /></svg><line stroke=\"black\" x1=\"50%\" x2=\"32.1622%\" y1=\"19.2px\" y2=\"48px\" /><svg width=\"7.56757%\" x=\"32.973%\" y=\"48px\"><defs /><svg width=\"100%\" x=\"0\" y=\"0px\"><defs /><text text-anchor=\"middle\" x=\"50%\" y=\"16px\">ORGANIZATION</text></svg><svg width=\"100%\" x=\"0%\" y=\"48px\"><defs /><svg width=\"100%\" x=\"0\" y=\"0px\"><defs /><text text-anchor=\"middle\" x=\"50%\" y=\"16px\">HYDRABAD</text></svg><svg width=\"100%\" x=\"0%\" y=\"48px\"><defs /><svg width=\"100%\" x=\"0\" y=\"0px\"><defs /><text text-anchor=\"middle\" x=\"50%\" y=\"16px\">NNP</text></svg></svg><line stroke=\"black\" x1=\"50%\" x2=\"50%\" y1=\"19.2px\" y2=\"48px\" /></svg><line stroke=\"black\" x1=\"50%\" x2=\"50%\" y1=\"19.2px\" y2=\"48px\" /></svg><line stroke=\"black\" x1=\"50%\" x2=\"36.7568%\" y1=\"19.2px\" y2=\"48px\" /><svg width=\"1.62162%\" x=\"40.5405%\" y=\"48px\"><defs /><svg width=\"100%\" x=\"0\" y=\"0px\"><defs /><text text-anchor=\"middle\" x=\"50%\" y=\"16px\">,</text></svg><svg width=\"100%\" x=\"0%\" y=\"48px\"><defs /><svg width=\"100%\" x=\"0\" y=\"0px\"><defs /><text text-anchor=\"middle\" x=\"50%\" y=\"16px\">,</text></svg></svg><line stroke=\"black\" x1=\"50%\" x2=\"50%\" y1=\"19.2px\" y2=\"48px\" /></svg><line stroke=\"black\" x1=\"50%\" x2=\"41.3514%\" y1=\"19.2px\" y2=\"48px\" /><svg width=\"7.56757%\" x=\"42.1622%\" y=\"48px\"><defs /><svg width=\"100%\" x=\"0\" y=\"0px\"><defs /><text text-anchor=\"middle\" x=\"50%\" y=\"16px\">ORGANIZATION</text></svg><svg width=\"100%\" x=\"0%\" y=\"48px\"><defs /><svg width=\"100%\" x=\"0\" y=\"0px\"><defs /><text text-anchor=\"middle\" x=\"50%\" y=\"16px\">TamilNadu</text></svg><svg width=\"100%\" x=\"0%\" y=\"48px\"><defs /><svg width=\"100%\" x=\"0\" y=\"0px\"><defs /><text text-anchor=\"middle\" x=\"50%\" y=\"16px\">NNP</text></svg></svg><line stroke=\"black\" x1=\"50%\" x2=\"50%\" y1=\"19.2px\" y2=\"48px\" /></svg><line stroke=\"black\" x1=\"50%\" x2=\"50%\" y1=\"19.2px\" y2=\"48px\" /></svg><line stroke=\"black\" x1=\"50%\" x2=\"45.9459%\" y1=\"19.2px\" y2=\"48px\" /><svg width=\"1.62162%\" x=\"49.7297%\" y=\"48px\"><defs /><svg width=\"100%\" x=\"0\" y=\"0px\"><defs /><text text-anchor=\"middle\" x=\"50%\" y=\"16px\">;</text></svg><svg width=\"100%\" x=\"0%\" y=\"48px\"><defs /><svg width=\"100%\" x=\"0\" y=\"0px\"><defs /><text text-anchor=\"middle\" x=\"50%\" y=\"16px\">:</text></svg></svg><line stroke=\"black\" x1=\"50%\" x2=\"50%\" y1=\"19.2px\" y2=\"48px\" /></svg><line stroke=\"black\" x1=\"50%\" x2=\"50.5405%\" y1=\"19.2px\" y2=\"48px\" /><svg width=\"4.32432%\" x=\"51.3514%\" y=\"48px\"><defs /><svg width=\"100%\" x=\"0\" y=\"0px\"><defs /><text text-anchor=\"middle\" x=\"50%\" y=\"16px\">600001</text></svg><svg width=\"100%\" x=\"0%\" y=\"48px\"><defs /><svg width=\"100%\" x=\"0\" y=\"0px\"><defs /><text text-anchor=\"middle\" x=\"50%\" y=\"16px\">CD</text></svg></svg><line stroke=\"black\" x1=\"50%\" x2=\"50%\" y1=\"19.2px\" y2=\"48px\" /></svg><line stroke=\"black\" x1=\"50%\" x2=\"53.5135%\" y1=\"19.2px\" y2=\"48px\" /><svg width=\"7.56757%\" x=\"55.6757%\" y=\"48px\"><defs /><svg width=\"100%\" x=\"0\" y=\"0px\"><defs /><text text-anchor=\"middle\" x=\"50%\" y=\"16px\">+91-456-1234</text></svg><svg width=\"100%\" x=\"0%\" y=\"48px\"><defs /><svg width=\"100%\" x=\"0\" y=\"0px\"><defs /><text text-anchor=\"middle\" x=\"50%\" y=\"16px\">JJ</text></svg></svg><line stroke=\"black\" x1=\"50%\" x2=\"50%\" y1=\"19.2px\" y2=\"48px\" /></svg><line stroke=\"black\" x1=\"50%\" x2=\"59.4595%\" y1=\"19.2px\" y2=\"48px\" /><svg width=\"3.78378%\" x=\"63.2432%\" y=\"48px\"><defs /><svg width=\"100%\" x=\"0\" y=\"0px\"><defs /><text text-anchor=\"middle\" x=\"50%\" y=\"16px\">hello</text></svg><svg width=\"100%\" x=\"0%\" y=\"48px\"><defs /><svg width=\"100%\" x=\"0\" y=\"0px\"><defs /><text text-anchor=\"middle\" x=\"50%\" y=\"16px\">NN</text></svg></svg><line stroke=\"black\" x1=\"50%\" x2=\"50%\" y1=\"19.2px\" y2=\"48px\" /></svg><line stroke=\"black\" x1=\"50%\" x2=\"65.1351%\" y1=\"19.2px\" y2=\"48px\" /><svg width=\"2.7027%\" x=\"67.027%\" y=\"48px\"><defs /><svg width=\"100%\" x=\"0\" y=\"0px\"><defs /><text text-anchor=\"middle\" x=\"50%\" y=\"16px\">@</text></svg><svg width=\"100%\" x=\"0%\" y=\"48px\"><defs /><svg width=\"100%\" x=\"0\" y=\"0px\"><defs /><text text-anchor=\"middle\" x=\"50%\" y=\"16px\">NNP</text></svg></svg><line stroke=\"black\" x1=\"50%\" x2=\"50%\" y1=\"19.2px\" y2=\"48px\" /></svg><line stroke=\"black\" x1=\"50%\" x2=\"68.3784%\" y1=\"19.2px\" y2=\"48px\" /><svg width=\"8.10811%\" x=\"69.7297%\" y=\"48px\"><defs /><svg width=\"100%\" x=\"0\" y=\"0px\"><defs /><text text-anchor=\"middle\" x=\"50%\" y=\"16px\">CHRISTMAS.com</text></svg><svg width=\"100%\" x=\"0%\" y=\"48px\"><defs /><svg width=\"100%\" x=\"0\" y=\"0px\"><defs /><text text-anchor=\"middle\" x=\"50%\" y=\"16px\">NNP</text></svg></svg><line stroke=\"black\" x1=\"50%\" x2=\"50%\" y1=\"19.2px\" y2=\"48px\" /></svg><line stroke=\"black\" x1=\"50%\" x2=\"73.7838%\" y1=\"19.2px\" y2=\"48px\" /><svg width=\"4.32432%\" x=\"77.8378%\" y=\"48px\"><defs /><svg width=\"100%\" x=\"0\" y=\"0px\"><defs /><text text-anchor=\"middle\" x=\"50%\" y=\"16px\">PERSON</text></svg><svg width=\"100%\" x=\"0%\" y=\"48px\"><defs /><svg width=\"100%\" x=\"0\" y=\"0px\"><defs /><text text-anchor=\"middle\" x=\"50%\" y=\"16px\">Family</text></svg><svg width=\"100%\" x=\"0%\" y=\"48px\"><defs /><svg width=\"100%\" x=\"0\" y=\"0px\"><defs /><text text-anchor=\"middle\" x=\"50%\" y=\"16px\">NNP</text></svg></svg><line stroke=\"black\" x1=\"50%\" x2=\"50%\" y1=\"19.2px\" y2=\"48px\" /></svg><line stroke=\"black\" x1=\"50%\" x2=\"50%\" y1=\"19.2px\" y2=\"48px\" /></svg><line stroke=\"black\" x1=\"50%\" x2=\"80%\" y1=\"19.2px\" y2=\"48px\" /><svg width=\"10.2703%\" x=\"82.1622%\" y=\"48px\"><defs /><svg width=\"100%\" x=\"0\" y=\"0px\"><defs /><text text-anchor=\"middle\" x=\"50%\" y=\"16px\">wWW.CHRISTMAS.com</text></svg><svg width=\"100%\" x=\"0%\" y=\"48px\"><defs /><svg width=\"100%\" x=\"0\" y=\"0px\"><defs /><text text-anchor=\"middle\" x=\"50%\" y=\"16px\">VBD</text></svg></svg><line stroke=\"black\" x1=\"50%\" x2=\"50%\" y1=\"19.2px\" y2=\"48px\" /></svg><line stroke=\"black\" x1=\"50%\" x2=\"87.2973%\" y1=\"19.2px\" y2=\"48px\" /><svg width=\"7.56757%\" x=\"92.4324%\" y=\"48px\"><defs /><svg width=\"100%\" x=\"0\" y=\"0px\"><defs /><text text-anchor=\"middle\" x=\"50%\" y=\"16px\">ORGANIZATION</text></svg><svg width=\"100%\" x=\"0%\" y=\"48px\"><defs /><svg width=\"100%\" x=\"0\" y=\"0px\"><defs /><text text-anchor=\"middle\" x=\"50%\" y=\"16px\">Restaurant</text></svg><svg width=\"100%\" x=\"0%\" y=\"48px\"><defs /><svg width=\"100%\" x=\"0\" y=\"0px\"><defs /><text text-anchor=\"middle\" x=\"50%\" y=\"16px\">NNP</text></svg></svg><line stroke=\"black\" x1=\"50%\" x2=\"50%\" y1=\"19.2px\" y2=\"48px\" /></svg><line stroke=\"black\" x1=\"50%\" x2=\"50%\" y1=\"19.2px\" y2=\"48px\" /></svg><line stroke=\"black\" x1=\"50%\" x2=\"96.2162%\" y1=\"19.2px\" y2=\"48px\" /></svg>"
      ],
      "text/plain": [
       "Tree('S', [Tree('ORGANIZATION', [('REVANTH', 'NNP')]), ('Marketing', 'NNP'), ('Executive', 'NNP'), ('123', 'CD'), Tree('ORGANIZATION', [('ABC', 'NNP'), ('St', 'NNP')]), (',', ','), (',', ','), Tree('ORGANIZATION', [('HYDRABAD', 'NNP')]), (',', ','), Tree('ORGANIZATION', [('TamilNadu', 'NNP')]), (';', ':'), ('600001', 'CD'), ('+91-456-1234', 'JJ'), ('hello', 'NN'), ('@', 'NNP'), ('CHRISTMAS.com', 'NNP'), Tree('PERSON', [('Family', 'NNP')]), ('wWW.CHRISTMAS.com', 'VBD'), Tree('ORGANIZATION', [('Restaurant', 'NNP')])])"
      ]
     },
     "execution_count": 12,
     "metadata": {},
     "output_type": "execute_result"
    }
   ],
   "source": [
    "entities = nltk.chunk.ne_chunk(tagged)\n",
    "entities"
   ]
  },
  {
   "cell_type": "code",
   "execution_count": 113,
   "metadata": {},
   "outputs": [
    {
     "data": {
      "text/plain": [
       "'SANTHOSH TECHNICAL MANAGER 123 ABC ST , TIRUPUR; TAMILNADU, 641603 +123-456-1234 HELLO@SUN.COM WWW.SUNCOM SUN ELECTRICALS '"
      ]
     },
     "execution_count": 113,
     "metadata": {},
     "output_type": "execute_result"
    }
   ],
   "source": [
    "d"
   ]
  },
  {
   "cell_type": "code",
   "execution_count": 118,
   "metadata": {},
   "outputs": [],
   "source": [
    "def extract_address(raw_extracted_text):\n",
    "    remove_texts = []\n",
    "    name, title = extract_name_and_title(raw_extracted_text)\n",
    "    email = extract_email_addresses(raw_extracted_text)\n",
    "    phone = extract_phone_numbers(raw_extracted_text)\n",
    "    website = extract_websites(raw_extracted_text)\n",
    "    remove_texts.extend([name, title, *email, *phone, website])\n",
    "\n",
    "    cleaned_text = raw_extracted_text.replace('-','')\n",
    "    for remove_text in remove_texts:\n",
    "        cleaned_text = cleaned_text.replace(remove_text, \"\")\n",
    "\n",
    "    return cleaned_text\n",
    "        "
   ]
  },
  {
   "cell_type": "code",
   "execution_count": 123,
   "metadata": {},
   "outputs": [],
   "source": [
    "b = 'Amit Kumar CEO & Founder 123-456-7569 hello@global.com www.global.com 123 Global Erode, Global Tamilnadu 600115 Insurance ST'\n",
    "c = 'SANTHOSH TECHNICAL MANAGER 123 ABC ST , TIRUPUR; TAMILNADU, 641603 +123-456-1234 HELLO@SUN.COM WWW.SUNCOM SUN ELECTRICALS '\n",
    "d = 'REVANTH MARKETING EXECUTIVE 123 ABC ST,, HYDRABAD, TAMILNADU; 600001 +91-456-1234 HELLO@CHRISTMAS.COM FAMILY WWW. CHRISTMAS.COM RESTAURANT '"
   ]
  },
  {
   "cell_type": "code",
   "execution_count": 146,
   "metadata": {},
   "outputs": [
    {
     "name": "stdout",
     "output_type": "stream",
     "text": [
      "Data inserted successfully!\n"
     ]
    }
   ],
   "source": [
    "from ocr import *\n",
    "from backend import *\n",
    "\n",
    "\n",
    "def data_insert_test(raw_extracted_text):\n",
    "    \n",
    "    data = []\n",
    "    raw_extracted_text = raw_extracted_text.lower()\n",
    "    # print(raw_extracted_text)\n",
    "    name, title = extract_name_and_title(raw_extracted_text)\n",
    "    data.append(name)\n",
    "    data.append(title)\n",
    "    # contact = st.text_input(\"Extracted Information\", value=extracted_text)\n",
    "    email = extract_email_addresses(raw_extracted_text)\n",
    "    email= \",\".join(email)\n",
    "    data.append(email)\n",
    "    phone =extract_phone_numbers(raw_extracted_text)\n",
    "    data.append(phone)\n",
    "    website = extract_websites(raw_extracted_text)\n",
    "    data.append(website)\n",
    "    company = extract_address(raw_extracted_text)\n",
    "    data.append(company)\n",
    "    address = extract_address(raw_extracted_text)\n",
    "    data.append(address)\n",
    "    \n",
    "    return data\n",
    "    \n",
    "    # print(name,title,email,phone,website,company,address)\n",
    "          \n",
    "          \n",
    "d = data_insert_test(b)    \n",
    "insert(d)"
   ]
  },
  {
   "cell_type": "code",
   "execution_count": null,
   "metadata": {},
   "outputs": [],
   "source": []
  },
  {
   "cell_type": "code",
   "execution_count": 143,
   "metadata": {},
   "outputs": [
    {
     "data": {
      "text/plain": [
       "'REVANTH MARKETING EXECUTIVE 123 ABC ST,, HYDRABAD, TAMILNADU; 600001 +91-456-1234 HELLO@CHRISTMAS.COM FAMILY WWW.CHRISTMAS.COM RESTAURANT '"
      ]
     },
     "execution_count": 143,
     "metadata": {},
     "output_type": "execute_result"
    }
   ],
   "source": [
    "data"
   ]
  },
  {
   "cell_type": "code",
   "execution_count": 133,
   "metadata": {},
   "outputs": [
    {
     "name": "stdout",
     "output_type": "stream",
     "text": [
      "example@email.com,support@email.co.uk\n"
     ]
    }
   ],
   "source": [
    "import re\n",
    "\n",
    "def extract_email_addresses(text):\n",
    "    email_pattern = r\"\\b[A-Za-z0-9._%+-]+@[A-Za-z0-9.-]+\\.[A-Z|a-z]{2,}\\b\"\n",
    "    email_addresses = re.findall(email_pattern, text)\n",
    "    email_addresses = \",\".join(email_addresses)\n",
    "    return email_addresses\n",
    "\n",
    "# Example usage\n",
    "text = \"Contact us at example@email.com or support@email.co.uk\"\n",
    "emails = extract_email_addresses(text)\n",
    "print(emails)\n"
   ]
  }
 ],
 "metadata": {
  "kernelspec": {
   "display_name": "Python 3",
   "language": "python",
   "name": "python3"
  },
  "language_info": {
   "codemirror_mode": {
    "name": "ipython",
    "version": 3
   },
   "file_extension": ".py",
   "mimetype": "text/x-python",
   "name": "python",
   "nbconvert_exporter": "python",
   "pygments_lexer": "ipython3",
   "version": "3.11.3"
  }
 },
 "nbformat": 4,
 "nbformat_minor": 2
}
